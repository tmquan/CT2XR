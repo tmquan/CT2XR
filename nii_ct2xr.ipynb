{
 "cells": [
  {
   "cell_type": "code",
   "execution_count": 1,
   "metadata": {},
   "outputs": [
    {
     "name": "stderr",
     "output_type": "stream",
     "text": [
      "/home/tmquan/anaconda3/lib/python3.7/site-packages/dicom/__init__.py:53: UserWarning: \n",
      "This code is using an older version of pydicom, which is no longer \n",
      "maintained as of Jan 2017.  You can access the new pydicom features and API \n",
      "by installing `pydicom` from PyPI.\n",
      "See 'Transitioning to pydicom 1.x' section at pydicom.readthedocs.org \n",
      "for more information.\n",
      "\n",
      "  warnings.warn(msg)\n"
     ]
    }
   ],
   "source": [
    "import os\n",
    "import numpy as np\n",
    "from natsort import natsorted\n",
    "import glob\n",
    "import shutil\n",
    "import cv2\n",
    "import skimage.io\n",
    "from skimage import exposure\n",
    "import nibabel as nib\n",
    "\n",
    "import nibabel\n",
    "import nibabel.affines\n",
    "import numpy\n",
    "import scipy.ndimage"
   ]
  },
  {
   "cell_type": "code",
   "execution_count": 2,
   "metadata": {},
   "outputs": [],
   "source": [
    "def resample_nii(image, pixel_size, new_spacing=[1,1,1]):\n",
    "    # Determine current pixel spacing\n",
    "    # print(scan[0].SliceThickness, scan[0].PixelSpacing)\n",
    "    spacing = list(pixel_size) #np.array(list([scan[0].SliceThickness]) + list(scan[0].PixelSpacing), dtype=np.float32)\n",
    "\n",
    "    resize_factor = np.array([old/new for (old, new) in zip(spacing, new_spacing)])\n",
    "    new_real_shape = image.shape * resize_factor\n",
    "    new_shape = np.round(new_real_shape)\n",
    "    real_resize_factor = new_shape / image.shape\n",
    "    new_spacing = spacing / real_resize_factor\n",
    "    \n",
    "    image = scipy.ndimage.interpolation.zoom(image, real_resize_factor, order=3)\n",
    "    \n",
    "    return image, new_spacing"
   ]
  },
  {
   "cell_type": "code",
   "execution_count": 3,
   "metadata": {},
   "outputs": [],
   "source": [
    "import pydrr\n",
    "import pydrr.autoinit\n",
    "import SimpleITK as sitk\n",
    "import matplotlib.pyplot as plt\n",
    "import mpl_toolkits.axes_grid1\n",
    "import numpy as np\n",
    "import sys\n",
    "from pydrr import utils"
   ]
  },
  {
   "cell_type": "code",
   "execution_count": 4,
   "metadata": {},
   "outputs": [],
   "source": [
    "def volume2image(volume, spacing=[1,1,1]):\n",
    "    print(pydrr.get_supported_kernels())\n",
    "    print(pydrr.get_current_kernel())\n",
    "    pydrr.set_current_kernel('render_with_cubic_interp')\n",
    "    print(pydrr.get_current_kernel())\n",
    "\n",
    "    # volume = pydrr.utils.HU2Myu(volume - 600, 0.2683)\n",
    "    # https://vincentblog.xyz/posts/medical-images-in-python-computed-tomography\n",
    "    #volume = pydrr.utils.window_image(volume, 200, 800)\n",
    "    #volume = pydrr.utils.window_image(volume, 400, 400)\n",
    "    volume = pydrr.utils.HU2Myu(volume - 50, 0.2683)\n",
    "\n",
    "    pm_Nx3x4, image_size, image_spacing = load_test_projection_matrix(\n",
    "        SDD=2048, \n",
    "        SOD=2048, \n",
    "        image_size=[1280, 1280], \n",
    "#         spacing=[1, 1]\n",
    "        )\n",
    "    T_Nx4x4 = load_test_transform_matrix()\n",
    "\n",
    "    # Construct objects\n",
    "    volume_context = pydrr.VolumeContext(volume.astype(np.float32), spacing)\n",
    "    geometry_context = pydrr.GeometryContext()\n",
    "    geometry_context.projection_matrix = pm_Nx3x4\n",
    "\n",
    "    n_channels = T_Nx4x4.shape[0] * pm_Nx3x4.shape[0]\n",
    "    detector = pydrr.Detector(pydrr.Detector.make_detector_size(image_size, n_channels), image_spacing)\n",
    "    # detector = pydrr.Detector.from_geometry(geometry_context, T_Nx4x4) # You can use from_geometry if you set pixel_size and image_size.\n",
    "    projector = pydrr.Projector(detector, 1.0).to_gpu()\n",
    "\n",
    "    # Host memory -> (Device memory) -> Texture memory\n",
    "    t_volume_context = volume_context.to_texture()\n",
    "\n",
    "    d_image = projector.project(t_volume_context, geometry_context, T_Nx4x4)\n",
    "\n",
    "    # Device memory -> Host memory\n",
    "    image = d_image.get()\n",
    "    return image\n",
    "#     image = d_image.get()\n",
    "#     print('Result image shape:', image.shape)\n",
    "#     plt.figure(figsize=(16,9))\n",
    "#     n_show_channels = 3\n",
    "#     for i in range(min(image.shape[2], n_show_channels)):\n",
    "#         ax = plt.subplot(1, min(image.shape[2], n_show_channels), i+1)\n",
    "#         divider = mpl_toolkits.axes_grid1.make_axes_locatable(ax)\n",
    "#         cax = divider.append_axes('right', '5%', pad='3%')\n",
    "#         im = ax.imshow(image[:, :, i], interpolation='none', cmap='gray')\n",
    "#         plt.colorbar(im, cax=cax)\n",
    "#     plt.show()\n",
    "\n",
    "#     save_image('drr.mhd', image, image_spacing)\n",
    "\n",
    "\n",
    "def load_test_projection_matrix(SDD=2000, SOD=1800, image_size=[1280, 1280], spacing=[0.287, 0.287] ):\n",
    "\n",
    "    if isinstance(image_size, list):\n",
    "        image_size = np.array(image_size)\n",
    "\n",
    "    if isinstance(spacing, list):\n",
    "        spacing = np.array(spacing)\n",
    "\n",
    "    extrinsic_R = utils.convertTransRotTo4x4([[0,0,0,90,0,0],\n",
    "                                              [0,0,0,0,90,0],\n",
    "                                              [0,0,0,0,0,90]])\n",
    "\n",
    "    #print('extrinsic_R:', extrinsic_R)\n",
    "    #print('extrinsic_R.shape:', extrinsic_R.shape)\n",
    "\n",
    "    extrinsic_T = utils.convertTransRotTo4x4([0,0,-SOD,0,0,0])\n",
    "\n",
    "    #print('extrinsic_T:', extrinsic_T)\n",
    "    #print('extrinsic_T.shape:', extrinsic_T.shape)\n",
    "\n",
    "\n",
    "    extrinsic = utils.concatenate4x4(extrinsic_T, extrinsic_R)\n",
    "\n",
    "    #print('extrinsic:', extrinsic)\n",
    "    #print('extrinsic.shape:', extrinsic.shape)\n",
    "\n",
    "\n",
    "    intrinsic = np.array([[-SDD/spacing[0], 0, image_size[0]/2.0], # unit: [pixel]\n",
    "                          [0, -SDD/spacing[1], image_size[1]/2.0],\n",
    "                          [0,                0,               1]])\n",
    "\n",
    "    #print('intrinsic:', intrinsic)\n",
    "    #print('intrinsic.shape:', intrinsic.shape)\n",
    "\n",
    "\n",
    "    pm_Nx3x4 = utils.constructProjectionMatrix(intrinsic, extrinsic)\n",
    "    #pm_Nx3x4 = np.repeat(pm_Nx3x4, 400, axis=0)\n",
    "\n",
    "    #print('pm_Nx3x4:', pm_Nx3x4)\n",
    "    #print('pm_Nx3x4.shape:', pm_Nx3x4.shape)\n",
    "\n",
    "    return pm_Nx3x4, image_size, spacing\n",
    "\n",
    "def load_test_transform_matrix(n_channels=1):\n",
    "    T_Nx6 = np.array([0,0,0,90,0,0])\n",
    "    T_Nx6 = np.expand_dims(T_Nx6, axis=0)\n",
    "    T_Nx6 = np.repeat(T_Nx6, n_channels, axis=0)\n",
    "    T_Nx4x4 = utils.convertTransRotTo4x4(T_Nx6)\n",
    "\n",
    "    #print('T_Nx4x4:', T_Nx4x4)\n",
    "    #print('T_Nx4x4.shape:', T_Nx4x4.shape)\n",
    "\n",
    "    return T_Nx4x4"
   ]
  },
  {
   "cell_type": "code",
   "execution_count": null,
   "metadata": {
    "scrolled": true
   },
   "outputs": [
    {
     "name": "stdout",
     "output_type": "stream",
     "text": [
      "==================================================\n",
      "/home/tmquan/iXrayCT/download/segmentation/mosmed/studies/CT-0/study_0001.nii.gz\n",
      "(0.68, 0.68, 8.0)\n",
      "(512, 512, 43) (348, 348, 344)\n",
      "['render_with_linear_interp', 'render_with_cubic_interp', 'print_device_params']\n",
      "render_with_linear_interp\n",
      "render_with_cubic_interp\n"
     ]
    },
    {
     "name": "stderr",
     "output_type": "stream",
     "text": [
      "Lossy conversion from float32 to uint8. Range [0.0, 78.70359802246094]. Convert image to uint8 prior to saving to suppress this warning.\n"
     ]
    },
    {
     "name": "stdout",
     "output_type": "stream",
     "text": [
      "==================================================\n",
      "/home/tmquan/iXrayCT/download/segmentation/mosmed/studies/CT-0/study_0002.nii.gz\n",
      "(0.709, 0.709, 8.0)\n",
      "(512, 512, 42) (363, 363, 336)\n",
      "['render_with_linear_interp', 'render_with_cubic_interp', 'print_device_params']\n",
      "render_with_cubic_interp\n",
      "render_with_cubic_interp\n"
     ]
    },
    {
     "name": "stderr",
     "output_type": "stream",
     "text": [
      "Lossy conversion from float32 to uint8. Range [0.0, 76.39685821533203]. Convert image to uint8 prior to saving to suppress this warning.\n"
     ]
    },
    {
     "name": "stdout",
     "output_type": "stream",
     "text": [
      "==================================================\n",
      "/home/tmquan/iXrayCT/download/segmentation/mosmed/studies/CT-0/study_0003.nii.gz\n",
      "(0.74, 0.74, 8.0)\n",
      "(512, 512, 41) (379, 379, 328)\n",
      "['render_with_linear_interp', 'render_with_cubic_interp', 'print_device_params']\n",
      "render_with_cubic_interp\n",
      "render_with_cubic_interp\n"
     ]
    },
    {
     "name": "stderr",
     "output_type": "stream",
     "text": [
      "Lossy conversion from float32 to uint8. Range [0.0, 82.48763275146484]. Convert image to uint8 prior to saving to suppress this warning.\n"
     ]
    },
    {
     "name": "stdout",
     "output_type": "stream",
     "text": [
      "==================================================\n",
      "/home/tmquan/iXrayCT/download/segmentation/mosmed/studies/CT-0/study_0004.nii.gz\n",
      "(0.824, 0.824, 8.0)\n",
      "(512, 512, 46) (422, 422, 368)\n",
      "['render_with_linear_interp', 'render_with_cubic_interp', 'print_device_params']\n",
      "render_with_cubic_interp\n",
      "render_with_cubic_interp\n"
     ]
    },
    {
     "name": "stderr",
     "output_type": "stream",
     "text": [
      "Lossy conversion from float32 to uint8. Range [0.0025415706913918257, 88.02386474609375]. Convert image to uint8 prior to saving to suppress this warning.\n"
     ]
    },
    {
     "name": "stdout",
     "output_type": "stream",
     "text": [
      "==================================================\n",
      "/home/tmquan/iXrayCT/download/segmentation/mosmed/studies/CT-0/study_0005.nii.gz\n",
      "(0.736, 0.736, 8.0)\n",
      "(512, 512, 43) (377, 377, 344)\n",
      "['render_with_linear_interp', 'render_with_cubic_interp', 'print_device_params']\n",
      "render_with_cubic_interp\n",
      "render_with_cubic_interp\n"
     ]
    },
    {
     "name": "stderr",
     "output_type": "stream",
     "text": [
      "Lossy conversion from float32 to uint8. Range [0.0, 58.42721176147461]. Convert image to uint8 prior to saving to suppress this warning.\n"
     ]
    },
    {
     "name": "stdout",
     "output_type": "stream",
     "text": [
      "==================================================\n",
      "/home/tmquan/iXrayCT/download/segmentation/mosmed/studies/CT-0/study_0006.nii.gz\n",
      "(0.702, 0.702, 8.0)\n",
      "(512, 512, 38) (359, 359, 304)\n",
      "['render_with_linear_interp', 'render_with_cubic_interp', 'print_device_params']\n",
      "render_with_cubic_interp\n",
      "render_with_cubic_interp\n"
     ]
    },
    {
     "name": "stderr",
     "output_type": "stream",
     "text": [
      "Lossy conversion from float32 to uint8. Range [0.0, 71.58370971679688]. Convert image to uint8 prior to saving to suppress this warning.\n"
     ]
    },
    {
     "name": "stdout",
     "output_type": "stream",
     "text": [
      "==================================================\n",
      "/home/tmquan/iXrayCT/download/segmentation/mosmed/studies/CT-0/study_0007.nii.gz\n",
      "(0.782, 0.782, 8.0)\n",
      "(512, 512, 44) (400, 400, 352)\n",
      "['render_with_linear_interp', 'render_with_cubic_interp', 'print_device_params']\n",
      "render_with_cubic_interp\n",
      "render_with_cubic_interp\n"
     ]
    },
    {
     "name": "stderr",
     "output_type": "stream",
     "text": [
      "Lossy conversion from float32 to uint8. Range [1.3481865607900545e-05, 82.05610656738281]. Convert image to uint8 prior to saving to suppress this warning.\n"
     ]
    },
    {
     "name": "stdout",
     "output_type": "stream",
     "text": [
      "==================================================\n",
      "/home/tmquan/iXrayCT/download/segmentation/mosmed/studies/CT-0/study_0008.nii.gz\n",
      "(0.782, 0.782, 8.0)\n",
      "(512, 512, 36) (400, 400, 288)\n",
      "['render_with_linear_interp', 'render_with_cubic_interp', 'print_device_params']\n",
      "render_with_cubic_interp\n",
      "render_with_cubic_interp\n"
     ]
    },
    {
     "name": "stderr",
     "output_type": "stream",
     "text": [
      "Lossy conversion from float32 to uint8. Range [0.0, 69.97801208496094]. Convert image to uint8 prior to saving to suppress this warning.\n"
     ]
    },
    {
     "name": "stdout",
     "output_type": "stream",
     "text": [
      "==================================================\n",
      "/home/tmquan/iXrayCT/download/segmentation/mosmed/studies/CT-0/study_0009.nii.gz\n",
      "(0.827, 0.827, 8.0)\n",
      "(512, 512, 39) (423, 423, 312)\n",
      "['render_with_linear_interp', 'render_with_cubic_interp', 'print_device_params']\n",
      "render_with_cubic_interp\n",
      "render_with_cubic_interp\n"
     ]
    },
    {
     "name": "stderr",
     "output_type": "stream",
     "text": [
      "Lossy conversion from float32 to uint8. Range [0.0, 80.47415924072266]. Convert image to uint8 prior to saving to suppress this warning.\n"
     ]
    },
    {
     "name": "stdout",
     "output_type": "stream",
     "text": [
      "==================================================\n",
      "/home/tmquan/iXrayCT/download/segmentation/mosmed/studies/CT-0/study_0010.nii.gz\n",
      "(0.831, 0.831, 8.0)\n",
      "(512, 512, 51) (425, 425, 408)\n",
      "['render_with_linear_interp', 'render_with_cubic_interp', 'print_device_params']\n",
      "render_with_cubic_interp\n",
      "render_with_cubic_interp\n"
     ]
    },
    {
     "name": "stderr",
     "output_type": "stream",
     "text": [
      "Lossy conversion from float32 to uint8. Range [0.14407074451446533, 88.34586334228516]. Convert image to uint8 prior to saving to suppress this warning.\n"
     ]
    },
    {
     "name": "stdout",
     "output_type": "stream",
     "text": [
      "==================================================\n",
      "/home/tmquan/iXrayCT/download/segmentation/mosmed/studies/CT-0/study_0011.nii.gz\n",
      "(0.816, 0.816, 8.0)\n",
      "(512, 512, 42) (418, 418, 336)\n",
      "['render_with_linear_interp', 'render_with_cubic_interp', 'print_device_params']\n",
      "render_with_cubic_interp\n",
      "render_with_cubic_interp\n"
     ]
    },
    {
     "name": "stderr",
     "output_type": "stream",
     "text": [
      "Lossy conversion from float32 to uint8. Range [0.0, 95.77386474609375]. Convert image to uint8 prior to saving to suppress this warning.\n"
     ]
    },
    {
     "name": "stdout",
     "output_type": "stream",
     "text": [
      "==================================================\n",
      "/home/tmquan/iXrayCT/download/segmentation/mosmed/studies/CT-0/study_0012.nii.gz\n",
      "(0.972, 0.972, 8.0)\n",
      "(512, 512, 43) (498, 498, 344)\n",
      "['render_with_linear_interp', 'render_with_cubic_interp', 'print_device_params']\n",
      "render_with_cubic_interp\n",
      "render_with_cubic_interp\n"
     ]
    },
    {
     "name": "stderr",
     "output_type": "stream",
     "text": [
      "Lossy conversion from float32 to uint8. Range [1.9862730904485204e-10, 79.25421905517578]. Convert image to uint8 prior to saving to suppress this warning.\n"
     ]
    },
    {
     "name": "stdout",
     "output_type": "stream",
     "text": [
      "==================================================\n",
      "/home/tmquan/iXrayCT/download/segmentation/mosmed/studies/CT-0/study_0013.nii.gz\n",
      "(0.74, 0.74, 8.0)\n",
      "(512, 512, 41) (379, 379, 328)\n",
      "['render_with_linear_interp', 'render_with_cubic_interp', 'print_device_params']\n",
      "render_with_cubic_interp\n",
      "render_with_cubic_interp\n"
     ]
    },
    {
     "name": "stderr",
     "output_type": "stream",
     "text": [
      "Lossy conversion from float32 to uint8. Range [0.0, 70.39569854736328]. Convert image to uint8 prior to saving to suppress this warning.\n"
     ]
    },
    {
     "name": "stdout",
     "output_type": "stream",
     "text": [
      "==================================================\n",
      "/home/tmquan/iXrayCT/download/segmentation/mosmed/studies/CT-0/study_0014.nii.gz\n",
      "(0.741, 0.741, 8.0)\n"
     ]
    }
   ],
   "source": [
    "folder = '/home/tmquan/iXrayCT/download/segmentation/mosmed/studies/'\n",
    "output = 'tmp_mosmed'\n",
    "shutil.rmtree(output, ignore_errors=True)\n",
    "os.makedirs(output)\n",
    "\n",
    "filenames = natsorted(glob.glob(os.path.join(folder, '**/*nii.gz')))\n",
    "\n",
    "viz = False\n",
    "for idx, filename in enumerate(filenames):\n",
    "    print('='*50)\n",
    "    #img = nib.load(filename)\n",
    "    print(filename)    \n",
    "    nib_data = nib.load(filename)\n",
    "    print(nib_data.header.get_zooms())\n",
    "    np_data_resample, _ = resample_nii(nib_data.get_fdata(), nib_data.header.get_zooms())\n",
    "    volume = np_data_resample.transpose(2, 1, 0)[:,::-1,:]\n",
    "    print(nib_data.get_fdata().shape, np_data_resample.shape)\n",
    "    \n",
    "    np_xr2 = volume2image(np_data_resample)\n",
    "    \n",
    "    filename = os.path.basename(filename).split('.')[0]\n",
    "    \n",
    "    # Save image\n",
    "    image = np.rot90(np_xr2[:,::-1,2], 2)\n",
    "    image = cv2.resize(image, (256, 256))\n",
    "    if viz:\n",
    "        plt.imshow(image, interpolation='none', cmap='gray')\n",
    "        plt.show()\n",
    "    skimage.io.imsave(os.path.join(output, 'xr2_' + filename + '.png'), image)\n",
    "    \n",
    "    # Save volume\n",
    "    factor = [64/volume.shape[0], 256/volume.shape[1], 256/volume.shape[2]]\n",
    "    volume = scipy.ndimage.zoom(volume, factor, order=3) # Bi-cubic\n",
    "    if viz:\n",
    "        plt.imshow(volume[0,:,:], interpolation='none', cmap='gray')\n",
    "        plt.show()\n",
    "        plt.imshow(volume[-1,:,:], interpolation='none', cmap='gray')\n",
    "        plt.show()\n",
    "    skimage.io.imsave(os.path.join(output, 'ct3_' + filename + '.tif'), volume, compress=6)\n",
    "    #break\n",
    "    "
   ]
  },
  {
   "cell_type": "code",
   "execution_count": null,
   "metadata": {},
   "outputs": [],
   "source": []
  },
  {
   "cell_type": "code",
   "execution_count": null,
   "metadata": {},
   "outputs": [],
   "source": []
  },
  {
   "cell_type": "code",
   "execution_count": null,
   "metadata": {},
   "outputs": [],
   "source": []
  }
 ],
 "metadata": {
  "kernelspec": {
   "display_name": "Python 3",
   "language": "python",
   "name": "python3"
  },
  "language_info": {
   "codemirror_mode": {
    "name": "ipython",
    "version": 3
   },
   "file_extension": ".py",
   "mimetype": "text/x-python",
   "name": "python",
   "nbconvert_exporter": "python",
   "pygments_lexer": "ipython3",
   "version": "3.7.6"
  }
 },
 "nbformat": 4,
 "nbformat_minor": 4
}
